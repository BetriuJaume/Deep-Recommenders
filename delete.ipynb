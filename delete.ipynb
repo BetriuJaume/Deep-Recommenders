{
 "cells": [
  {
   "cell_type": "code",
   "execution_count": 1,
   "metadata": {},
   "outputs": [],
   "source": [
    "import pandas as pd\n",
    "import numpy as np\n",
    "import random\n",
    "import torch\n",
    "from torch.utils.data import TensorDataset\n",
    "from torch.utils.data import DataLoader\n",
    "from typing import Tuple\n",
    "from datetime import datetime, timedelta\n",
    "from typing import Tuple\n",
    "\n",
    "from preprocessing import BasicPreprocessing"
   ]
  },
  {
   "cell_type": "code",
   "execution_count": 2,
   "metadata": {},
   "outputs": [
    {
     "name": "stdout",
     "output_type": "stream",
     "text": [
      "Reading csv data...\n",
      "Data succesfully read!\n"
     ]
    }
   ],
   "source": [
    "basic_pre = BasicPreprocessing()"
   ]
  },
  {
   "cell_type": "code",
   "execution_count": 4,
   "metadata": {},
   "outputs": [
    {
     "data": {
      "text/html": [
       "<div>\n",
       "<style scoped>\n",
       "    .dataframe tbody tr th:only-of-type {\n",
       "        vertical-align: middle;\n",
       "    }\n",
       "\n",
       "    .dataframe tbody tr th {\n",
       "        vertical-align: top;\n",
       "    }\n",
       "\n",
       "    .dataframe thead th {\n",
       "        text-align: right;\n",
       "    }\n",
       "</style>\n",
       "<table border=\"1\" class=\"dataframe\">\n",
       "  <thead>\n",
       "    <tr style=\"text-align: right;\">\n",
       "      <th></th>\n",
       "      <th>0</th>\n",
       "      <th>1</th>\n",
       "      <th>2</th>\n",
       "      <th>3</th>\n",
       "      <th>4</th>\n",
       "      <th>5</th>\n",
       "    </tr>\n",
       "  </thead>\n",
       "  <tbody>\n",
       "    <tr>\n",
       "      <th>0</th>\n",
       "      <td>NaN</td>\n",
       "      <td>Unnamed: 0</td>\n",
       "      <td>user_id</td>\n",
       "      <td>rating</td>\n",
       "      <td>date</td>\n",
       "      <td>movie_id</td>\n",
       "    </tr>\n",
       "    <tr>\n",
       "      <th>1</th>\n",
       "      <td>90.0</td>\n",
       "      <td>90</td>\n",
       "      <td>2090715</td>\n",
       "      <td>4</td>\n",
       "      <td>2005-10-11</td>\n",
       "      <td>17240</td>\n",
       "    </tr>\n",
       "    <tr>\n",
       "      <th>2</th>\n",
       "      <td>108.0</td>\n",
       "      <td>108</td>\n",
       "      <td>2372546</td>\n",
       "      <td>4</td>\n",
       "      <td>2004-08-03</td>\n",
       "      <td>17240</td>\n",
       "    </tr>\n",
       "    <tr>\n",
       "      <th>3</th>\n",
       "      <td>116.0</td>\n",
       "      <td>116</td>\n",
       "      <td>1392572</td>\n",
       "      <td>2</td>\n",
       "      <td>2003-09-09</td>\n",
       "      <td>17240</td>\n",
       "    </tr>\n",
       "    <tr>\n",
       "      <th>4</th>\n",
       "      <td>204.0</td>\n",
       "      <td>72</td>\n",
       "      <td>588687</td>\n",
       "      <td>3</td>\n",
       "      <td>2005-11-07</td>\n",
       "      <td>1281</td>\n",
       "    </tr>\n",
       "    <tr>\n",
       "      <th>...</th>\n",
       "      <td>...</td>\n",
       "      <td>...</td>\n",
       "      <td>...</td>\n",
       "      <td>...</td>\n",
       "      <td>...</td>\n",
       "      <td>...</td>\n",
       "    </tr>\n",
       "    <tr>\n",
       "      <th>2106575</th>\n",
       "      <td>100479847.0</td>\n",
       "      <td>428</td>\n",
       "      <td>560435</td>\n",
       "      <td>5</td>\n",
       "      <td>2004-04-22</td>\n",
       "      <td>11566</td>\n",
       "    </tr>\n",
       "    <tr>\n",
       "      <th>2106576</th>\n",
       "      <td>100480003.0</td>\n",
       "      <td>584</td>\n",
       "      <td>1193862</td>\n",
       "      <td>1</td>\n",
       "      <td>2005-05-10</td>\n",
       "      <td>11566</td>\n",
       "    </tr>\n",
       "    <tr>\n",
       "      <th>2106577</th>\n",
       "      <td>100480191.0</td>\n",
       "      <td>772</td>\n",
       "      <td>2238311</td>\n",
       "      <td>4</td>\n",
       "      <td>2004-09-06</td>\n",
       "      <td>11566</td>\n",
       "    </tr>\n",
       "    <tr>\n",
       "      <th>2106578</th>\n",
       "      <td>100480296.0</td>\n",
       "      <td>877</td>\n",
       "      <td>88568</td>\n",
       "      <td>4</td>\n",
       "      <td>2004-05-24</td>\n",
       "      <td>11566</td>\n",
       "    </tr>\n",
       "    <tr>\n",
       "      <th>2106579</th>\n",
       "      <td>100480384.0</td>\n",
       "      <td>27</td>\n",
       "      <td>1882485</td>\n",
       "      <td>4</td>\n",
       "      <td>2005-11-16</td>\n",
       "      <td>16483</td>\n",
       "    </tr>\n",
       "  </tbody>\n",
       "</table>\n",
       "<p>2106580 rows × 6 columns</p>\n",
       "</div>"
      ],
      "text/plain": [
       "                   0           1        2       3           4         5\n",
       "0                NaN  Unnamed: 0  user_id  rating        date  movie_id\n",
       "1               90.0          90  2090715       4  2005-10-11     17240\n",
       "2              108.0         108  2372546       4  2004-08-03     17240\n",
       "3              116.0         116  1392572       2  2003-09-09     17240\n",
       "4              204.0          72   588687       3  2005-11-07      1281\n",
       "...              ...         ...      ...     ...         ...       ...\n",
       "2106575  100479847.0         428   560435       5  2004-04-22     11566\n",
       "2106576  100480003.0         584  1193862       1  2005-05-10     11566\n",
       "2106577  100480191.0         772  2238311       4  2004-09-06     11566\n",
       "2106578  100480296.0         877    88568       4  2004-05-24     11566\n",
       "2106579  100480384.0          27  1882485       4  2005-11-16     16483\n",
       "\n",
       "[2106580 rows x 6 columns]"
      ]
     },
     "execution_count": 4,
     "metadata": {},
     "output_type": "execute_result"
    }
   ],
   "source": [
    "basic_pre.data"
   ]
  },
  {
   "cell_type": "code",
   "execution_count": 3,
   "metadata": {},
   "outputs": [
    {
     "name": "stdout",
     "output_type": "stream",
     "text": [
      "[[90.0 '90' '2090715' '4' '2005-10-11' '17240']\n",
      " [108.0 '108' '2372546' '4' '2004-08-03' '17240']\n",
      " [116.0 '116' '1392572' '2' '2003-09-09' '17240']\n",
      " ...\n",
      " [100480191.0 '772' '2238311' '4' '2004-09-06' '11566']\n",
      " [100480296.0 '877' '88568' '4' '2004-05-24' '11566']\n",
      " [100480384.0 '27' '1882485' '4' '2005-11-16' '16483']]\n"
     ]
    },
    {
     "ename": "ValueError",
     "evalue": "time data '2090715' does not match format '%Y-%m-%d'",
     "output_type": "error",
     "traceback": [
      "\u001b[0;31m---------------------------------------------------------------------------\u001b[0m",
      "\u001b[0;31mValueError\u001b[0m                                Traceback (most recent call last)",
      "Cell \u001b[0;32mIn[3], line 1\u001b[0m\n\u001b[0;32m----> 1\u001b[0m basic_pre\u001b[39m.\u001b[39;49mstep_1(basic_pre\u001b[39m.\u001b[39;49mdata)\n",
      "File \u001b[0;32m~/Desktop/DL_final_prooject/deep_recomenders/preprocessing.py:41\u001b[0m, in \u001b[0;36mBasicPreprocessing.step_1\u001b[0;34m(self, data)\u001b[0m\n\u001b[1;32m     39\u001b[0m dates_str \u001b[39m=\u001b[39m data[:, \u001b[39m3\u001b[39m]\n\u001b[1;32m     40\u001b[0m \u001b[39m# Convert the dates from strings to integers\u001b[39;00m\n\u001b[0;32m---> 41\u001b[0m dates_int \u001b[39m=\u001b[39m [\u001b[39mint\u001b[39m(datetime\u001b[39m.\u001b[39mstrptime(fecha_str, \u001b[39m'\u001b[39m\u001b[39m%\u001b[39m\u001b[39mY-\u001b[39m\u001b[39m%\u001b[39m\u001b[39mm-\u001b[39m\u001b[39m%d\u001b[39;00m\u001b[39m'\u001b[39m)\u001b[39m.\u001b[39mstrftime(\u001b[39m'\u001b[39m\u001b[39m%\u001b[39m\u001b[39mY\u001b[39m\u001b[39m%\u001b[39m\u001b[39mm\u001b[39m\u001b[39m%d\u001b[39;00m\u001b[39m'\u001b[39m)) \u001b[39mfor\u001b[39;00m fecha_str \u001b[39min\u001b[39;00m dates_str]\n\u001b[1;32m     42\u001b[0m \u001b[39m# Replace the column of dates with the date objects\u001b[39;00m\n\u001b[1;32m     43\u001b[0m data[:, \u001b[39m3\u001b[39m] \u001b[39m=\u001b[39m dates_int\n",
      "File \u001b[0;32m~/Desktop/DL_final_prooject/deep_recomenders/preprocessing.py:41\u001b[0m, in \u001b[0;36m<listcomp>\u001b[0;34m(.0)\u001b[0m\n\u001b[1;32m     39\u001b[0m dates_str \u001b[39m=\u001b[39m data[:, \u001b[39m3\u001b[39m]\n\u001b[1;32m     40\u001b[0m \u001b[39m# Convert the dates from strings to integers\u001b[39;00m\n\u001b[0;32m---> 41\u001b[0m dates_int \u001b[39m=\u001b[39m [\u001b[39mint\u001b[39m(datetime\u001b[39m.\u001b[39;49mstrptime(fecha_str, \u001b[39m'\u001b[39;49m\u001b[39m%\u001b[39;49m\u001b[39mY-\u001b[39;49m\u001b[39m%\u001b[39;49m\u001b[39mm-\u001b[39;49m\u001b[39m%d\u001b[39;49;00m\u001b[39m'\u001b[39;49m)\u001b[39m.\u001b[39mstrftime(\u001b[39m'\u001b[39m\u001b[39m%\u001b[39m\u001b[39mY\u001b[39m\u001b[39m%\u001b[39m\u001b[39mm\u001b[39m\u001b[39m%d\u001b[39;00m\u001b[39m'\u001b[39m)) \u001b[39mfor\u001b[39;00m fecha_str \u001b[39min\u001b[39;00m dates_str]\n\u001b[1;32m     42\u001b[0m \u001b[39m# Replace the column of dates with the date objects\u001b[39;00m\n\u001b[1;32m     43\u001b[0m data[:, \u001b[39m3\u001b[39m] \u001b[39m=\u001b[39m dates_int\n",
      "File \u001b[0;32m~/anaconda3/envs/recommender/lib/python3.9/_strptime.py:568\u001b[0m, in \u001b[0;36m_strptime_datetime\u001b[0;34m(cls, data_string, format)\u001b[0m\n\u001b[1;32m    565\u001b[0m \u001b[39mdef\u001b[39;00m \u001b[39m_strptime_datetime\u001b[39m(\u001b[39mcls\u001b[39m, data_string, \u001b[39mformat\u001b[39m\u001b[39m=\u001b[39m\u001b[39m\"\u001b[39m\u001b[39m%a\u001b[39;00m\u001b[39m \u001b[39m\u001b[39m%\u001b[39m\u001b[39mb \u001b[39m\u001b[39m%d\u001b[39;00m\u001b[39m \u001b[39m\u001b[39m%\u001b[39m\u001b[39mH:\u001b[39m\u001b[39m%\u001b[39m\u001b[39mM:\u001b[39m\u001b[39m%\u001b[39m\u001b[39mS \u001b[39m\u001b[39m%\u001b[39m\u001b[39mY\u001b[39m\u001b[39m\"\u001b[39m):\n\u001b[1;32m    566\u001b[0m \u001b[39m    \u001b[39m\u001b[39m\"\"\"Return a class cls instance based on the input string and the\u001b[39;00m\n\u001b[1;32m    567\u001b[0m \u001b[39m    format string.\"\"\"\u001b[39;00m\n\u001b[0;32m--> 568\u001b[0m     tt, fraction, gmtoff_fraction \u001b[39m=\u001b[39m _strptime(data_string, \u001b[39mformat\u001b[39;49m)\n\u001b[1;32m    569\u001b[0m     tzname, gmtoff \u001b[39m=\u001b[39m tt[\u001b[39m-\u001b[39m\u001b[39m2\u001b[39m:]\n\u001b[1;32m    570\u001b[0m     args \u001b[39m=\u001b[39m tt[:\u001b[39m6\u001b[39m] \u001b[39m+\u001b[39m (fraction,)\n",
      "File \u001b[0;32m~/anaconda3/envs/recommender/lib/python3.9/_strptime.py:349\u001b[0m, in \u001b[0;36m_strptime\u001b[0;34m(data_string, format)\u001b[0m\n\u001b[1;32m    347\u001b[0m found \u001b[39m=\u001b[39m format_regex\u001b[39m.\u001b[39mmatch(data_string)\n\u001b[1;32m    348\u001b[0m \u001b[39mif\u001b[39;00m \u001b[39mnot\u001b[39;00m found:\n\u001b[0;32m--> 349\u001b[0m     \u001b[39mraise\u001b[39;00m \u001b[39mValueError\u001b[39;00m(\u001b[39m\"\u001b[39m\u001b[39mtime data \u001b[39m\u001b[39m%r\u001b[39;00m\u001b[39m does not match format \u001b[39m\u001b[39m%r\u001b[39;00m\u001b[39m\"\u001b[39m \u001b[39m%\u001b[39m\n\u001b[1;32m    350\u001b[0m                      (data_string, \u001b[39mformat\u001b[39m))\n\u001b[1;32m    351\u001b[0m \u001b[39mif\u001b[39;00m \u001b[39mlen\u001b[39m(data_string) \u001b[39m!=\u001b[39m found\u001b[39m.\u001b[39mend():\n\u001b[1;32m    352\u001b[0m     \u001b[39mraise\u001b[39;00m \u001b[39mValueError\u001b[39;00m(\u001b[39m\"\u001b[39m\u001b[39munconverted data remains: \u001b[39m\u001b[39m%s\u001b[39;00m\u001b[39m\"\u001b[39m \u001b[39m%\u001b[39m\n\u001b[1;32m    353\u001b[0m                       data_string[found\u001b[39m.\u001b[39mend():])\n",
      "\u001b[0;31mValueError\u001b[0m: time data '2090715' does not match format '%Y-%m-%d'"
     ]
    }
   ],
   "source": [
    "basic_pre.step_1(basic_pre.data)"
   ]
  },
  {
   "cell_type": "code",
   "execution_count": null,
   "metadata": {},
   "outputs": [],
   "source": []
  },
  {
   "cell_type": "code",
   "execution_count": null,
   "metadata": {},
   "outputs": [],
   "source": []
  }
 ],
 "metadata": {
  "kernelspec": {
   "display_name": "recommender",
   "language": "python",
   "name": "python3"
  },
  "language_info": {
   "codemirror_mode": {
    "name": "ipython",
    "version": 3
   },
   "file_extension": ".py",
   "mimetype": "text/x-python",
   "name": "python",
   "nbconvert_exporter": "python",
   "pygments_lexer": "ipython3",
   "version": "3.9.16"
  },
  "orig_nbformat": 4
 },
 "nbformat": 4,
 "nbformat_minor": 2
}
